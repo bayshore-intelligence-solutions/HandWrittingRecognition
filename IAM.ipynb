{
  "nbformat": 4,
  "nbformat_minor": 0,
  "metadata": {
    "colab": {
      "name": "IAM",
      "provenance": []
    },
    "kernelspec": {
      "name": "python3",
      "display_name": "Python 3"
    }
  },
  "cells": [
    {
      "cell_type": "code",
      "metadata": {
        "id": "5spG0nCbYUCO",
        "colab_type": "code",
        "colab": {}
      },
      "source": [
        "import os\n",
        "from pathlib import Path\n",
        "import requests\n",
        "import sys"
      ],
      "execution_count": 0,
      "outputs": []
    },
    {
      "cell_type": "markdown",
      "metadata": {
        "id": "QB7hqRT4bw0B",
        "colab_type": "text"
      },
      "source": [
        "## 1. Authentication"
      ]
    },
    {
      "cell_type": "code",
      "metadata": {
        "id": "dq8PRZyYY7NR",
        "colab_type": "code",
        "colab": {}
      },
      "source": [
        "os.environ['IAM_USER'] = \"thedatageek\"\n",
        "os.environ['IAM_PWD'] = 'mayukhsobo'"
      ],
      "execution_count": 0,
      "outputs": []
    },
    {
      "cell_type": "markdown",
      "metadata": {
        "id": "XC8nxYn4bnPH",
        "colab_type": "text"
      },
      "source": [
        "## 2. Download Data"
      ]
    },
    {
      "cell_type": "markdown",
      "metadata": {
        "id": "OXGewJCYcGFW",
        "colab_type": "text"
      },
      "source": [
        "#### 2.1 Download Links"
      ]
    },
    {
      "cell_type": "code",
      "metadata": {
        "id": "3FjG1zmJY9Gp",
        "colab_type": "code",
        "colab": {}
      },
      "source": [
        "LINES_URL = 'http://www.fki.inf.unibe.ch/DBs/iamDB/data/lines/lines.tgz'\n",
        "SENTENCE_URL = 'http://www.fki.inf.unibe.ch/DBs/iamDB/data/sentences/sentences.tgz'\n",
        "WORDS_URL = 'http://www.fki.inf.unibe.ch/DBs/iamDB/data/words/words.tgz'\n",
        "ASCII_URL = 'http://www.fki.inf.unibe.ch/DBs/iamDB/data/ascii/ascii.tgz'\n",
        "SPLIT_URL = 'http://www.fki.inf.unibe.ch/DBs/iamDB/tasks/largeWriterIndependentTextLineRecognitionTask.zip'\n",
        "\n",
        "DOWNLOAD = [\n",
        "      LINES_URL,\n",
        "      ASCII_URL,\n",
        "      SPLIT_URL,\n",
        "]"
      ],
      "execution_count": 0,
      "outputs": []
    },
    {
      "cell_type": "markdown",
      "metadata": {
        "id": "GAI-jgSZcMWS",
        "colab_type": "text"
      },
      "source": [
        "#### 2.2 Download the data"
      ]
    },
    {
      "cell_type": "code",
      "metadata": {
        "id": "s3O5Pk1Fdobs",
        "colab_type": "code",
        "colab": {}
      },
      "source": [
        "try:\n",
        "  os.mkdir('data')\n",
        "except FileExistsError:\n",
        "  pass\n",
        "DATA_DIR = Path('.').joinpath('data')"
      ],
      "execution_count": 0,
      "outputs": []
    },
    {
      "cell_type": "code",
      "metadata": {
        "id": "3wh6ifkMa7dY",
        "colab_type": "code",
        "colab": {}
      },
      "source": [
        "def _download(url, filename):\n",
        "    with open(filename, 'wb') as f:\n",
        "        response = requests.get(url, stream=True, auth=(os.environ.get('IAM_USER'), os.environ.get('IAM_PWD')))\n",
        "        if not response.ok:\n",
        "          return False\n",
        "        total = response.headers.get('content-length')\n",
        "\n",
        "        if total is None:\n",
        "            f.write(response.content)\n",
        "        else:\n",
        "            downloaded = 0\n",
        "            total = int(total)\n",
        "            t = total\n",
        "            c = 'Bytes'\n",
        "            if total / 1024 > 1024:\n",
        "             t = total/1024\n",
        "             c = 'KB'\n",
        "            if t > 1024:\n",
        "              t = t / 1024\n",
        "              c = 'MB'\n",
        "            if t > 1024:\n",
        "              t = t / 1024\n",
        "              c = 'GB'\n",
        "\n",
        "            sys.stdout.write(f'[*] Downloading {filename.name} of total size {round(t, 2)} {c}\\n')\n",
        "            for data in response.iter_content(chunk_size=max(int(total/1000), 1024*1024)):\n",
        "                downloaded += len(data)\n",
        "                f.write(data)\n",
        "                done = int(50*downloaded/total)\n",
        "                sys.stdout.write('\\r[{}/{}][{}{}]'.format(downloaded, total, '█' * done, '.' * (50-done)))\n",
        "                sys.stdout.flush()\n",
        "    sys.stdout.write('\\n')\n",
        "    return True\n",
        "\n",
        "def download(data_dir: Path):\n",
        "  \"\"\"\n",
        "  Download the files in the directory from the mentioned\n",
        "  download urls\n",
        "\n",
        "  Args:\n",
        "    data_dir: Path object to mention where the file to be downloaded\n",
        "  \"\"\"\n",
        "  if data_dir.exists():\n",
        "    print('Skipping Download..')\n",
        "  else:\n",
        "    data_dir.mkdir(exist_ok=True)\n",
        "    print('Downloading IAM dataset...')\n",
        "    for url in DOWNLOAD:\n",
        "      if _download(url, data_dir.joinpath(os.path.basename(url))):\n",
        "        pass\n",
        "      else:\n",
        "        print(f'Failed to load data form {url}')"
      ],
      "execution_count": 0,
      "outputs": []
    },
    {
      "cell_type": "code",
      "metadata": {
        "id": "8ZfbAwYJbEJH",
        "colab_type": "code",
        "colab": {
          "base_uri": "https://localhost:8080/",
          "height": 136
        },
        "outputId": "933a883e-944b-4ef2-f5f2-ea7bb04aecdb"
      },
      "source": [
        "download(DATA_DIR.joinpath('iam'))"
      ],
      "execution_count": 172,
      "outputs": [
        {
          "output_type": "stream",
          "text": [
            "Downloading IAM dataset...\n",
            "[*] Downloading lines.tgz of total size 637.18 MB\n",
            "[668131555/668131555][██████████████████████████████████████████████████]\n",
            "[*] Downloading ascii.tgz of total size 2.49 MB\n",
            "[2614394/2614394][██████████████████████████████████████████████████]\n",
            "[*] Downloading largeWriterIndependentTextLineRecognitionTask.zip of total size 22.47 MB\n",
            "[23009/23009][██████████████████████████████████████████████████]\n"
          ],
          "name": "stdout"
        }
      ]
    },
    {
      "cell_type": "code",
      "metadata": {
        "id": "QadralsXA-LC",
        "colab_type": "code",
        "colab": {
          "base_uri": "https://localhost:8080/",
          "height": 136
        },
        "outputId": "0efdfd63-a079-4e31-e3db-72b154e444ac"
      },
      "source": [
        "!tree data"
      ],
      "execution_count": 178,
      "outputs": [
        {
          "output_type": "stream",
          "text": [
            "data\n",
            "└── iam\n",
            "    ├── ascii.tgz\n",
            "    ├── largeWriterIndependentTextLineRecognitionTask.zip\n",
            "    └── lines.tgz\n",
            "\n",
            "1 directory, 3 files\n"
          ],
          "name": "stdout"
        }
      ]
    },
    {
      "cell_type": "code",
      "metadata": {
        "id": "SF2weoBnHxQZ",
        "colab_type": "code",
        "colab": {}
      },
      "source": [
        ""
      ],
      "execution_count": 0,
      "outputs": []
    }
  ]
}